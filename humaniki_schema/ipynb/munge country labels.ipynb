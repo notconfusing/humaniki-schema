{
 "cells": [
  {
   "cell_type": "code",
   "execution_count": 4,
   "metadata": {},
   "outputs": [],
   "source": [
    "import pandas as pd\n",
    "import os"
   ]
  },
  {
   "cell_type": "code",
   "execution_count": 26,
   "metadata": {},
   "outputs": [],
   "source": [
    "datadir = '/home/paprika/Downloads/'\n",
    "outdir = '/home/paprika/workspace/humaniki-schema/humaniki_schema/example_data/'"
   ]
  },
  {
   "cell_type": "markdown",
   "metadata": {},
   "source": [
    "# goal format\n",
    "1. qid | label | lang  (lang='en')\n",
    "1. qid | label | lang  (lang='fr')\n",
    "1. qid | label | lang  (lang='iso_3611')\n",
    "## again for occupation"
   ]
  },
  {
   "cell_type": "code",
   "execution_count": 40,
   "metadata": {},
   "outputs": [],
   "source": [
    "country_fr_f = os.path.join(datadir, 'country_code_fr.tsv')\n",
    "country_en_f = os.path.join(datadir, 'country_code_en.tsv')\n",
    "occup_fr_f = os.path.join(datadir, 'occupation_label_fr.tsv')\n",
    "occup_en_f = os.path.join(datadir, 'occupation_label_en.tsv')"
   ]
  },
  {
   "cell_type": "code",
   "execution_count": 41,
   "metadata": {},
   "outputs": [],
   "source": [
    "def qid_stripper(url):\n",
    "    return url.split('http://www.wikidata.org/entity/Q')[1]"
   ]
  },
  {
   "cell_type": "code",
   "execution_count": 47,
   "metadata": {},
   "outputs": [],
   "source": [
    "cf = pd.read_csv(country_fr_f, sep='\\t', converters={'country':qid_stripper}, usecols=['country','countryLabel'])\n",
    "cf.columns=['id','label']\n",
    "cf['lang']='fr'\n",
    "ce = pd.read_csv(country_en_f, sep='\\t', converters={'country':qid_stripper}, usecols=['country','countryLabel'])\n",
    "ce.columns=['id','label']\n",
    "ce['lang']='en'\n",
    "iso = pd.read_csv(country_en_f, sep='\\t', converters={'country':qid_stripper}, usecols=['country','iso_3166_1'])\n",
    "iso.columns=['id','label']\n",
    "iso = iso[pd.notnull(iso['label'])]\n",
    "iso['lang']='iso_3166_1'\n"
   ]
  },
  {
   "cell_type": "code",
   "execution_count": 48,
   "metadata": {},
   "outputs": [],
   "source": [
    "cf.to_csv(os.path.join(outdir, 'wdqs_country_labels_fr.tsv'), sep='\\t', index=False)\n",
    "ce.to_csv(os.path.join(outdir, 'wdqs_country_labels_en.tsv'), sep='\\t', index=False)\n",
    "iso.to_csv(os.path.join(outdir, 'wdqs_country_labels_iso.tsv'), sep='\\t', index=False)"
   ]
  },
  {
   "cell_type": "code",
   "execution_count": null,
   "metadata": {},
   "outputs": [],
   "source": []
  },
  {
   "cell_type": "code",
   "execution_count": null,
   "metadata": {},
   "outputs": [],
   "source": []
  }
 ],
 "metadata": {
  "kernelspec": {
   "display_name": "Python 3",
   "language": "python",
   "name": "python3"
  },
  "language_info": {
   "codemirror_mode": {
    "name": "ipython",
    "version": 3
   },
   "file_extension": ".py",
   "mimetype": "text/x-python",
   "name": "python",
   "nbconvert_exporter": "python",
   "pygments_lexer": "ipython3",
   "version": "3.7.9"
  }
 },
 "nbformat": 4,
 "nbformat_minor": 4
}
