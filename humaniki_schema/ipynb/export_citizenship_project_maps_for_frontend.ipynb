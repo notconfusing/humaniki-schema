{
 "cells": [
  {
   "cell_type": "code",
   "execution_count": 29,
   "metadata": {},
   "outputs": [],
   "source": [
    "from humaniki_schema.db import session_factory\n",
    "from humaniki_schema.utils import Properties, PopulationDefinition\n",
    "from humaniki_schema.schema import human_country, project\n",
    "import pandas as pd\n",
    "import json\n",
    "import os\n",
    "db_session = session_factory()\n",
    "con = db_session.get_bind()\n",
    "example_data_dir = '/home/paprika/workspace/humaniki-schema/humaniki_schema/example_data/'"
   ]
  },
  {
   "cell_type": "code",
   "execution_count": 30,
   "metadata": {},
   "outputs": [],
   "source": [
    "unique_proj_sql = \"\"\"\n",
    "select code, label from project\n",
    "\"\"\"\n",
    "projects = pd.read_sql_query(unique_proj_sql, con)"
   ]
  },
  {
   "cell_type": "code",
   "execution_count": 31,
   "metadata": {},
   "outputs": [],
   "source": [
    "proj_dict = dict(projects.to_dict(orient='split')['data'])\n",
    "\n",
    "with open(os.path.join(example_data_dir,'map_qid_project_en.json'), 'w') as f:\n",
    "    json.dump(proj_dict, f)"
   ]
  },
  {
   "cell_type": "code",
   "execution_count": 34,
   "metadata": {},
   "outputs": [],
   "source": [
    "unique_citizenship_sql = \"\"\"\n",
    "with uniq_countries as\n",
    "(select distinct country from human_country)\n",
    "select uniq_countries.country, label.label\n",
    "from uniq_countries join label on uniq_countries.country = label.qid\n",
    "where label.lang='en' order by country\n",
    "\"\"\"\n",
    "countries = pd.read_sql_query(unique_citizenship_sql, con)\n",
    "\n",
    "countries_dict = dict(countries.to_dict(orient='split')['data'])\n",
    "with open(os.path.join(example_data_dir,'map_qid_country_en.json'), 'w') as f:\n",
    "    json.dump(countries_dict, f)"
   ]
  },
  {
   "cell_type": "code",
   "execution_count": null,
   "metadata": {},
   "outputs": [],
   "source": []
  }
 ],
 "metadata": {
  "kernelspec": {
   "display_name": "Python 3",
   "language": "python",
   "name": "python3"
  },
  "language_info": {
   "codemirror_mode": {
    "name": "ipython",
    "version": 3
   },
   "file_extension": ".py",
   "mimetype": "text/x-python",
   "name": "python",
   "nbconvert_exporter": "python",
   "pygments_lexer": "ipython3",
   "version": "3.7.9"
  }
 },
 "nbformat": 4,
 "nbformat_minor": 1
}
