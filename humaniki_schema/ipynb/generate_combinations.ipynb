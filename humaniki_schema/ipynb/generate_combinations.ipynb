{
 "cells": [
  {
   "cell_type": "code",
   "execution_count": 38,
   "metadata": {
    "collapsed": true
   },
   "outputs": [],
   "source": [
    "from itertools import *\n",
    "from humaniki_schema.utils import Properties, PopulationDefinition"
   ]
  },
  {
   "cell_type": "code",
   "execution_count": 39,
   "metadata": {},
   "outputs": [
    {
     "name": "stdout",
     "output_type": "stream",
     "text": [
      "5 dimensions\n"
     ]
    }
   ],
   "source": [
    "bias_prop = Properties.GENDER\n",
    "all_dimensions = [p for p in Properties.__members__.values() if p.name != 'GENDER']\n",
    "print(f'{len(all_dimensions)} dimensions')"
   ]
  },
  {
   "cell_type": "code",
   "execution_count": 40,
   "metadata": {},
   "outputs": [
    {
     "name": "stdout",
     "output_type": "stream",
     "text": [
      "5 of lenght 1\n10 of lenght 2\n10 of lenght 3\n5 of lenght 4\n1 of lenght 5\n"
     ]
    }
   ],
   "source": [
    "dimension_combinations = []\n",
    "for comb_len_zero_index in range(len(all_dimensions)):\n",
    "    comb_len = comb_len_zero_index + 1 #1-index\n",
    "    r_len_combs = list(combinations(all_dimensions, r=comb_len))\n",
    "    print(f'{len(r_len_combs)} of lenght {comb_len}')\n",
    "    dimension_combinations.extend(r_len_combs)"
   ]
  },
  {
   "cell_type": "code",
   "execution_count": 41,
   "metadata": {},
   "outputs": [],
   "source": [
    "num_dim_combs = len(dimension_combinations)"
   ]
  },
  {
   "cell_type": "code",
   "execution_count": 42,
   "metadata": {},
   "outputs": [],
   "source": [
    "all_pop_defns = PopulationDefinition.__members__.values()"
   ]
  },
  {
   "cell_type": "code",
   "execution_count": 44,
   "metadata": {},
   "outputs": [],
   "source": [
    "num_pop_defns = len(all_pop_defns)"
   ]
  },
  {
   "cell_type": "code",
   "execution_count": 48,
   "metadata": {},
   "outputs": [],
   "source": [
    "dim_pop_combs = list(product(dimension_combinations, all_pop_defns))"
   ]
  },
  {
   "cell_type": "code",
   "execution_count": 49,
   "metadata": {},
   "outputs": [
    {
     "data": {
      "text/plain": [
       "True"
      ]
     },
     "execution_count": 49,
     "metadata": {},
     "output_type": "execute_result"
    }
   ],
   "source": [
    "len(dim_pop_combs) == num_dim_combs * num_pop_defns"
   ]
  },
  {
   "cell_type": "code",
   "execution_count": 51,
   "metadata": {},
   "outputs": [
    {
     "data": {
      "text/plain": [
       "((<Properties.PROJECT: 0>,), <PopulationDefinition.ALL_WIKIDATA: 1>)"
      ]
     },
     "execution_count": 51,
     "metadata": {},
     "output_type": "execute_result"
    }
   ],
   "source": [
    "dim_pop_combs[0]"
   ]
  },
  {
   "cell_type": "code",
   "execution_count": null,
   "metadata": {},
   "outputs": [],
   "source": []
  }
 ],
 "metadata": {
  "kernelspec": {
   "display_name": "Python 2",
   "language": "python",
   "name": "python2"
  },
  "language_info": {
   "codemirror_mode": {
    "name": "ipython",
    "version": 2
   },
   "file_extension": ".py",
   "mimetype": "text/x-python",
   "name": "python",
   "nbconvert_exporter": "python",
   "pygments_lexer": "ipython2",
   "version": "2.7.6"
  }
 },
 "nbformat": 4,
 "nbformat_minor": 0
}
